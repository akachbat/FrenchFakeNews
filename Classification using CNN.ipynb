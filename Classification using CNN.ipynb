{
 "cells": [
  {
   "cell_type": "markdown",
   "metadata": {},
   "source": [
    "# FAKES NEW DETECTION\n",
    "## Classification avec un réseaux de neurones convolutionnels - CNN\n",
    "\n",
    "<img src=\"images/news_pred_example.jpg\" width=\"800\" height=\"800\" align=\"center\"/>\n",
    "\n",
    "Dans ce notebook, nous allons créer un classificateur CNN (Convolutional Neural Network) pour prédire la catégorie des actualités (vrais, faux).\n",
    "\n",
    "Nous allons utilisé une dataset crée avec la technique de scraping pour récupérer les articles depuis des sites qui publient des fausses articles ou des contenus ironiques. \n",
    "Pour plus de détails sur le dataset voir le notebook  `data_analytics.ipynb`\n",
    "\n",
    "We will:\n",
    "- Prétraitement des données de texte pour la NLP\n",
    "- Construisez et formez un modele CNN 1-D en utilisant Keras et Tensorflow\n",
    "- Évaluez notre modèle sur l'ensemble de test\n",
    "- Exécutez le modèle sur nos propres dataset\n"
   ]
  },
  {
   "cell_type": "code",
   "execution_count": null,
   "metadata": {},
   "outputs": [],
   "source": []
  },
  {
   "cell_type": "markdown",
   "metadata": {},
   "source": [
    "## Configuration initiale\n",
    "\n",
    "Commençon par l'imporatation des packages nécessaires"
   ]
  },
  {
   "cell_type": "code",
   "execution_count": 14,
   "metadata": {},
   "outputs": [],
   "source": [
    "from tensorflow.keras.preprocessing import sequence\n",
    "from tensorflow.keras.models import Sequential\n",
    "from tensorflow.keras.layers import Dense, Embedding, GlobalMaxPooling1D, Flatten, Conv1D, Dropout, Activation\n",
    "from tensorflow.keras.preprocessing.text import Tokenizer\n",
    "\n",
    "import tensorflow as tf\n",
    "import matplotlib.pyplot as plt\n",
    "import numpy as np\n",
    "import pandas as pd\n",
    "\n",
    "import os\n",
    "import re\n",
    "import string"
   ]
  },
  {
   "cell_type": "markdown",
   "metadata": {},
   "source": [
    "## Parameteres de training\n",
    "\n",
    "Nous allons définir les hyperparamètres pour le training de notre modèle. N'hésitez pas à jouer - sinon, nous vous recommandons de conserver les valeurs par défaut pour votre première exécution."
   ]
  },
  {
   "cell_type": "code",
   "execution_count": 15,
   "metadata": {},
   "outputs": [],
   "source": [
    "# Hyperparams if GPU is available\n",
    "if len(tf.config.list_physical_devices('GPU')) > 0:\n",
    "    # GPU\n",
    "    BATCH_SIZE = 128 # Number of examples used in each iteration\n",
    "    EPOCHS = 4 # Number of passes through entire dataset\n",
    "    VOCAB_SIZE = 90000 # Size of vocabulary dictionary\n",
    "    MAX_LEN = 1000 # Max length of news (in words)\n",
    "    EMBEDDING_DIM = 40 # Dimension of word embedding vector\n",
    "\n",
    "# Hyperparams for CPU training\n",
    "else:\n",
    "    # CPU\n",
    "    BATCH_SIZE = 120\n",
    "    EPOCHS = 4\n",
    "    VOCAB_SIZE = 30000\n",
    "    MAX_LEN = 500\n",
    "    EMBEDDING_DIM = 40"
   ]
  },
  {
   "cell_type": "code",
   "execution_count": 16,
   "metadata": {},
   "outputs": [],
   "source": [
    "from sklearn.utils import resample\n",
    "\n",
    "fakenews = pd.read_csv(\"output/fake_news_cleaned.csv\", usecols=['title','text'])\n",
    "realnews = pd.read_csv(\"output/real_news_cleaned.csv\", usecols=['title','text'])\n",
    "#resample dataset\n",
    "realnews = resample(realnews, replace=False, n_samples=len(fakenews), random_state=0)\n",
    "\n",
    "LABELS = ['fake', 'true']\n",
    "fakenews['label'] = 0\n",
    "realnews['label'] = 1"
   ]
  },
  {
   "cell_type": "code",
   "execution_count": 17,
   "metadata": {},
   "outputs": [],
   "source": [
    "# fusionnée les 2 dataset\n",
    "df_news = pd.concat([fakenews, realnews])\n",
    "# permutation des données \n",
    "df_news = df_news.sample(len(df_news), random_state=4)"
   ]
  },
  {
   "cell_type": "markdown",
   "metadata": {},
   "source": [
    "#### Voir l'echantillons du dataset"
   ]
  },
  {
   "cell_type": "code",
   "execution_count": 18,
   "metadata": {},
   "outputs": [
    {
     "data": {
      "text/html": [
       "<div>\n",
       "<style scoped>\n",
       "    .dataframe tbody tr th:only-of-type {\n",
       "        vertical-align: middle;\n",
       "    }\n",
       "\n",
       "    .dataframe tbody tr th {\n",
       "        vertical-align: top;\n",
       "    }\n",
       "\n",
       "    .dataframe thead th {\n",
       "        text-align: right;\n",
       "    }\n",
       "</style>\n",
       "<table border=\"1\" class=\"dataframe\">\n",
       "  <thead>\n",
       "    <tr style=\"text-align: right;\">\n",
       "      <th></th>\n",
       "      <th>title</th>\n",
       "      <th>text</th>\n",
       "      <th>label</th>\n",
       "    </tr>\n",
       "  </thead>\n",
       "  <tbody>\n",
       "    <tr>\n",
       "      <td>10079</td>\n",
       "      <td>volvo s90 la suédoise élégante sud ouest</td>\n",
       "      <td>la s90 reçoit une calandre similaire à celle d...</td>\n",
       "      <td>1</td>\n",
       "    </tr>\n",
       "    <tr>\n",
       "      <td>2783</td>\n",
       "      <td>volkswagen peut on refuser la mise à jour du l...</td>\n",
       "      <td>02 estimant que le constructeur allemand est ...</td>\n",
       "      <td>1</td>\n",
       "    </tr>\n",
       "    <tr>\n",
       "      <td>478</td>\n",
       "      <td>5 preuves que vous devez démissionner pour dev...</td>\n",
       "      <td>plus un français sur quatre ressent aujourd hu...</td>\n",
       "      <td>0</td>\n",
       "    </tr>\n",
       "    <tr>\n",
       "      <td>5536</td>\n",
       "      <td>primaire de gauche primaire de droite le jeu d...</td>\n",
       "      <td>pour la première fois à la fois droite et gauc...</td>\n",
       "      <td>1</td>\n",
       "    </tr>\n",
       "    <tr>\n",
       "      <td>4222</td>\n",
       "      <td>alerte le signal de botrange entre en éruption</td>\n",
       "      <td>le signal de botrange vient tout juste entrer ...</td>\n",
       "      <td>0</td>\n",
       "    </tr>\n",
       "    <tr>\n",
       "      <td>2061</td>\n",
       "      <td>la valla sur rochefort un enfant de 5 ans et u...</td>\n",
       "      <td>loire la valla sur rochefort un enfant de 5 an...</td>\n",
       "      <td>1</td>\n",
       "    </tr>\n",
       "    <tr>\n",
       "      <td>7333</td>\n",
       "      <td>laurent surpris à mal porter son masque pendan...</td>\n",
       "      <td>ouh il porte pas bien son masque est pas bien ...</td>\n",
       "      <td>0</td>\n",
       "    </tr>\n",
       "    <tr>\n",
       "      <td>929</td>\n",
       "      <td>amiens amazon va ouvrir un 5e centre de distri...</td>\n",
       "      <td>société amiens amazon va ouvrir un 5e centre d...</td>\n",
       "      <td>1</td>\n",
       "    </tr>\n",
       "    <tr>\n",
       "      <td>3531</td>\n",
       "      <td>simplification administrative aéroport de pari...</td>\n",
       "      <td>roissy orly régulièrement critiqué par les com...</td>\n",
       "      <td>0</td>\n",
       "    </tr>\n",
       "    <tr>\n",
       "      <td>7120</td>\n",
       "      <td>victoire de algérie à la can abdelaziz boutefl...</td>\n",
       "      <td>les fennecs ont battu la côte ivoire aux tirs...</td>\n",
       "      <td>0</td>\n",
       "    </tr>\n",
       "  </tbody>\n",
       "</table>\n",
       "</div>"
      ],
      "text/plain": [
       "                                                   title  \\\n",
       "10079           volvo s90 la suédoise élégante sud ouest   \n",
       "2783   volkswagen peut on refuser la mise à jour du l...   \n",
       "478    5 preuves que vous devez démissionner pour dev...   \n",
       "5536   primaire de gauche primaire de droite le jeu d...   \n",
       "4222     alerte le signal de botrange entre en éruption    \n",
       "2061   la valla sur rochefort un enfant de 5 ans et u...   \n",
       "7333   laurent surpris à mal porter son masque pendan...   \n",
       "929    amiens amazon va ouvrir un 5e centre de distri...   \n",
       "3531   simplification administrative aéroport de pari...   \n",
       "7120   victoire de algérie à la can abdelaziz boutefl...   \n",
       "\n",
       "                                                    text  label  \n",
       "10079  la s90 reçoit une calandre similaire à celle d...      1  \n",
       "2783    02 estimant que le constructeur allemand est ...      1  \n",
       "478    plus un français sur quatre ressent aujourd hu...      0  \n",
       "5536   pour la première fois à la fois droite et gauc...      1  \n",
       "4222   le signal de botrange vient tout juste entrer ...      0  \n",
       "2061   loire la valla sur rochefort un enfant de 5 an...      1  \n",
       "7333   ouh il porte pas bien son masque est pas bien ...      0  \n",
       "929    société amiens amazon va ouvrir un 5e centre d...      1  \n",
       "3531   roissy orly régulièrement critiqué par les com...      0  \n",
       "7120    les fennecs ont battu la côte ivoire aux tirs...      0  "
      ]
     },
     "execution_count": 18,
     "metadata": {},
     "output_type": "execute_result"
    }
   ],
   "source": [
    "df_news.sample(10)"
   ]
  },
  {
   "cell_type": "code",
   "execution_count": 19,
   "metadata": {},
   "outputs": [],
   "source": [
    "# préparation de donnée de training(80%), validation(20%)\n",
    "L = len(df_news)\n",
    "train, val = df_news[:int(L * 0.8)].reset_index(), df_news[int(L * 0.8):].reset_index()"
   ]
  },
  {
   "cell_type": "markdown",
   "metadata": {},
   "source": [
    "voir la distribution de données de training et validation"
   ]
  },
  {
   "cell_type": "code",
   "execution_count": 20,
   "metadata": {},
   "outputs": [
    {
     "name": "stdout",
     "output_type": "stream",
     "text": [
      "Training count : fake = 5990, real 5997\n",
      "Validation count : fake = 1502, real 1495\n"
     ]
    },
    {
     "data": {
      "image/png": "[encoded data removed]",
      "text/plain": [
       "<Figure size 720x360 with 2 Axes>"
      ]
     },
     "metadata": {},
     "output_type": "display_data"
    }
   ],
   "source": [
    "import seaborn as sns\n",
    "\n",
    "sns.set(style=\"whitegrid\")\n",
    "\n",
    "train['cat'] = 'train'\n",
    "val['cat'] = 'validation'\n",
    "\n",
    "df_concat = pd.concat([train, val]).groupby([\"label\", \"cat\"]).count().reset_index()\n",
    "g = sns.catplot(x=\"label\", y=\"title\", col=\"cat\", data=df_concat, sharey=False, kind=\"bar\", palette=\"muted\")\n",
    "\n",
    "print(\"Training count : fake = {0}, real {1}\".format(df_concat.iloc[0]['title'], df_concat.iloc[2]['title']))\n",
    "print(\"Validation count : fake = {0}, real {1}\".format(df_concat.iloc[1]['title'], df_concat.iloc[3]['title']))"
   ]
  },
  {
   "cell_type": "code",
   "execution_count": 21,
   "metadata": {},
   "outputs": [
    {
     "name": "stdout",
     "output_type": "stream",
     "text": [
      "texte : \n",
      " le chanteur pitbull qui devait faire la première partie de kevin bazinet aux grandes fêtes cet été est maintenant interdit à rimouski en prenant connaissance du règlement municipal tout ce qui porte de nom de pitt ou de bull ne peut franchir les limites de la ville la semaine dernière pitbull laissé aller son instinct hétérophile et aurait violemment mordu arrière train de la chanteuse jennifer lope après cet incident son gérant été formellement accusé agression aucune accusation été porté envers le chanteur car comme tout le monde le sait peu importe ce qui arrive avec un animal surtout un pitbull est toujours la faute du maître pitbull déclare avoir eu un dressage misogyne durant son enfance et qu il toujous aucune idée de ce que ça veut dire une pétition circule au bar chez pull afin de changer le règlement pour que les douches de rimouski puissent enfin rencontrer leur idole  \n",
      "\n",
      "label :  0\n"
     ]
    }
   ],
   "source": [
    "print('texte : \\n', train['text'][0], \"\\n\")\n",
    "print('label : ', train['label'][0])"
   ]
  },
  {
   "cell_type": "raw",
   "metadata": {},
   "source": [
    "Fonction générique pour le traitement des textes"
   ]
  },
  {
   "cell_type": "code",
   "execution_count": 22,
   "metadata": {},
   "outputs": [],
   "source": [
    "from nltk.corpus import stopwords\n",
    "\n",
    "stoplist = stopwords.words('french')\n",
    "\n",
    "#delete stopwords\n",
    "def remove_stop_words(tokens):\n",
    "    return [word for word in tokens if word not in stoplist]\n",
    "\n",
    "# Custom Tokenizer\n",
    "def text_normalization(text):\n",
    "    text = re.sub(u\"[^A-Za-z0-9(),!?\\'\\`:/\\-\\.]\", u\" \", text)\n",
    "    text = re.sub(u'&#8217;',u\"'\",text)\n",
    "    text = re.sub(u'\\u2019',u\"'\",text)\n",
    "    text = re.sub(u'&#160;',u\" \",text)\n",
    "    text = re.sub(u'&#8211;',u\"-\",text)\n",
    "    text = re.sub(u'\\u000a',u\"\",text)\n",
    "    text = re.sub(u'\\u2014',u\"-\",text)\n",
    "    text = re.sub(u'\\n+$',u\" \",text)\n",
    "    text = re.sub(u'\\s+',u\" \",text)\n",
    "    text = re.sub(u'^\\s+',u\"\",text)\n",
    "    text = re.sub(u'\\s+$',u\"\",text)\n",
    "    text = re.sub(u\"\\'s\", u\" \\'s\", text)\n",
    "    text = re.sub(u\"\\'ve\", u\" \\'ve\", text)\n",
    "    text = re.sub(u\"n\\'t\", u\" n\\'t\", text)\n",
    "    text = re.sub(u\"\\'re\", u\" \\'re\", text)\n",
    "    text = re.sub(u\"\\'d\", u\" \\'d\", text)\n",
    "    text = re.sub(u\"\\'ll\", u\" \\'ll\", text)\n",
    "    text = re.sub(u\",\", u\" , \", text)\n",
    "    text = re.sub(u\"!\", u\" ! \", text)\n",
    "    text = re.sub(u\"\\(\", u\" ( \", text)\n",
    "    text = re.sub(u\"\\)\", u\" ) \", text)\n",
    "    text = re.sub(u\"\\?\", u\" ? \", text)\n",
    "    text = re.sub(u\"\\.{2,}\",u\" . \", text)\n",
    "    text = re.sub(u\":[^/]\",u\" : \", text)\n",
    "    text = re.sub(u\"\\s{2,}\",u\" \", text)\n",
    "    return text\n",
    "\n",
    "def lower_token(tokens):\n",
    "    return [w.lower() for w in tokens]\n",
    "\n",
    "def tokenize(s):    \n",
    "    return lower_token(text_normalization(s).split())"
   ]
  },
  {
   "cell_type": "code",
   "execution_count": 23,
   "metadata": {},
   "outputs": [],
   "source": [
    "#clean text\n",
    "train['text_clean'] = train['text'].apply(lambda x: text_normalization(x))\n",
    "val['text_clean'] = val['text'].apply(lambda x: text_normalization(x))\n",
    "#remove stop words\n",
    "train['text_clean'] = [ ' '.join(remove_stop_words(text.split())) for text in train['text_clean'] ]\n",
    "val['text_clean'] = [ ' '.join(remove_stop_words(text.split())) for text in val['text_clean'] ]"
   ]
  },
  {
   "cell_type": "code",
   "execution_count": 24,
   "metadata": {},
   "outputs": [
    {
     "data": {
      "image/png": "[encoded data removed]",
      "text/plain": [
       "<Figure size 432x288 with 1 Axes>"
      ]
     },
     "metadata": {},
     "output_type": "display_data"
    }
   ],
   "source": [
    "# Plot sentence by length\n",
    "train['tokens'] = train['text_clean'].apply(lambda x: tokenize(x))\n",
    "tokens_len = [len(s) for s in train['tokens'].values]\n",
    "plt.hist(tokens_len, bins=15)\n",
    "plt.title('Tokens par document')\n",
    "plt.xlabel('Nombres de tokens')\n",
    "plt.ylabel('Nb document')\n",
    "plt.show()"
   ]
  },
  {
   "cell_type": "markdown",
   "metadata": {
    "jupyter": {
     "outputs_hidden": true
    }
   },
   "source": [
    "Avoir des informations sur la taille des vocabulaires et sur le text"
   ]
  },
  {
   "cell_type": "code",
   "execution_count": 25,
   "metadata": {},
   "outputs": [
    {
     "name": "stdout",
     "output_type": "stream",
     "text": [
      "2739223 words total, with a vocabulary size of 92179\n",
      "Max sentence length is 3299\n"
     ]
    }
   ],
   "source": [
    "all_training_words = [word for tokens in train[\"tokens\"] for word in tokens]\n",
    "training_sentence_lengths = [len(tokens) for tokens in train[\"tokens\"]]\n",
    "train_vocab = sorted(list(set(all_training_words)))\n",
    "\n",
    "print(\"%s words total, with a vocabulary size of %s\" % (len(all_training_words), len(train_vocab)))\n",
    "print(\"Max sentence length is %s\" % max(training_sentence_lengths))"
   ]
  },
  {
   "cell_type": "markdown",
   "metadata": {},
   "source": [
    "## Data Preprocessing\n",
    "\n",
    "Avant de mettre les données dans le modèle, nous devons prétraiter le texte.\n",
    "\n",
    "- Nous utiliserons le `Tokenizer` de Keras pour convertir chaque mot en un ID entier correspondant. Représenter les mots sous forme d'entiers économise beaucoup de mémoire!\n",
    "- Afin d'introduire le texte dans notre CNN, tous les textes doivent être de la même longueur. Nous assurons cela en utilisant la méthode `sequence.pad_sequences ()` et la variable `MAX_LEN`. Tous les textes plus longs que `MAX_LEN` sont tronqués et les textes plus courts sont remplis par des zéros pour les obtenir à la même longueur.\n",
    "\n",
    "Le graph **Tokens par document** (voir ci-dessus) est utile pour définir l'hyperparamètre d'entraînement `MAX_LEN`."
   ]
  },
  {
   "cell_type": "code",
   "execution_count": 26,
   "metadata": {},
   "outputs": [
    {
     "name": "stdout",
     "output_type": "stream",
     "text": [
      "First sample before preprocessing: \n",
      " chanteur pitbull devait faire premi re partie kevin bazinet grandes f cet maintenant interdit rimouski prenant connaissance r glement municipal tout porte nom pitt bull peut franchir limites ville semaine derni re pitbull laiss aller instinct h rophile violemment mordu arri re train chanteuse jennifer lope apr cet incident g rant formellement accus agression aucune accusation port envers chanteur car comme tout monde sait peu importe arrive animal surtout pitbull toujours faute tre pitbull clare avoir dressage misogyne durant enfance toujous aucune id e a veut dire p tition circule bar chez pull afin changer r glement douches rimouski puissent enfin rencontrer idole \n",
      "\n",
      "First sample after preprocessing: \n",
      " [ 1458 22084   816    14    77     5   183  2508   738    32   113   392\n",
      "  1672  6795  3153  2301     1  2247  2583    10   234   146  5497  5767\n",
      "    49  5768  2983   115   212   121     5 22084  1079   345 11488    54\n",
      "  4465 14295  1360     5   500  2968 10355 13797    12   113  2096    18\n",
      "  1536  7209   850  1459   418  5498   437  1599  1458   124    11    10\n",
      "    45   511    59  1183   974  1642   267 22084    88  1265     8 22084\n",
      "  1768    30 16040   428  2407   418   187     2     7   266   140    27\n",
      "  1189  8151  1572   104  8010   110   775     1  2247  9294  6795  2194\n",
      "   307  2408  8152     0     0     0     0     0     0     0     0     0\n",
      "     0     0     0     0     0     0     0     0     0     0     0     0\n",
      "     0     0     0     0     0     0     0     0     0     0     0     0\n",
      "     0     0     0     0     0     0     0     0     0     0     0     0\n",
      "     0     0     0     0     0     0     0     0     0     0     0     0\n",
      "     0     0     0     0     0     0     0     0     0     0     0     0\n",
      "     0     0     0     0     0     0     0     0     0     0     0     0\n",
      "     0     0     0     0     0     0     0     0     0     0     0     0\n",
      "     0     0     0     0     0     0     0     0     0     0     0     0\n",
      "     0     0     0     0     0     0     0     0     0     0     0     0\n",
      "     0     0     0     0     0     0     0     0     0     0     0     0\n",
      "     0     0     0     0     0     0     0     0     0     0     0     0\n",
      "     0     0     0     0     0     0     0     0     0     0     0     0\n",
      "     0     0     0     0     0     0     0     0     0     0     0     0\n",
      "     0     0     0     0     0     0     0     0     0     0     0     0\n",
      "     0     0     0     0     0     0     0     0     0     0     0     0\n",
      "     0     0     0     0     0     0     0     0     0     0     0     0\n",
      "     0     0     0     0     0     0     0     0     0     0     0     0\n",
      "     0     0     0     0     0     0     0     0     0     0     0     0\n",
      "     0     0     0     0     0     0     0     0     0     0     0     0\n",
      "     0     0     0     0     0     0     0     0     0     0     0     0\n",
      "     0     0     0     0     0     0     0     0     0     0     0     0\n",
      "     0     0     0     0     0     0     0     0     0     0     0     0\n",
      "     0     0     0     0     0     0     0     0     0     0     0     0\n",
      "     0     0     0     0     0     0     0     0     0     0     0     0\n",
      "     0     0     0     0     0     0     0     0     0     0     0     0\n",
      "     0     0     0     0     0     0     0     0     0     0     0     0\n",
      "     0     0     0     0     0     0     0     0     0     0     0     0\n",
      "     0     0     0     0     0     0     0     0     0     0     0     0\n",
      "     0     0     0     0     0     0     0     0     0     0     0     0\n",
      "     0     0     0     0     0     0     0     0     0     0     0     0\n",
      "     0     0     0     0     0     0     0     0     0     0     0     0\n",
      "     0     0     0     0     0     0     0     0     0     0     0     0\n",
      "     0     0     0     0     0     0     0     0]\n"
     ]
    }
   ],
   "source": [
    "text_tokenizer = Tokenizer(num_words=VOCAB_SIZE)\n",
    "text_tokenizer.fit_on_texts(train['text_clean'].values)\n",
    "\n",
    "x_train_seq = text_tokenizer.texts_to_sequences(train['text_clean'].values)\n",
    "x_val_seq = text_tokenizer.texts_to_sequences(val['text_clean'].values)\n",
    "\n",
    "x_train = sequence.pad_sequences(x_train_seq, maxlen=MAX_LEN, padding=\"post\", value=0)\n",
    "x_val = sequence.pad_sequences(x_val_seq, maxlen=MAX_LEN, padding=\"post\", value=0)\n",
    "\n",
    "y_train, y_val = train['label'].values, val['label'].values\n",
    "\n",
    "print('First sample before preprocessing: \\n', train['text_clean'].values[0], '\\n')\n",
    "print('First sample after preprocessing: \\n', x_train[0])"
   ]
  },
  {
   "cell_type": "markdown",
   "metadata": {},
   "source": [
    "## Model\n",
    "\n",
    "Nous mettrons en œuvre un modèle similaire à celui de Kim Yoon’s [Convolutional Neural Networks for Sentence Classification](https://arxiv.org/abs/1408.5882).\n",
    "\n",
    "![cnn for text](images/cnn.png)\n",
    "\n",
    "\n",
    "*Image à partir la [source](https://arxiv.org/abs/1408.5882)*"
   ]
  },
  {
   "cell_type": "code",
   "execution_count": 27,
   "metadata": {},
   "outputs": [],
   "source": [
    "# Model Parameters\n",
    "NUM_FILTERS = 120\n",
    "KERNEL_SIZE = 2\n",
    "HIDDEN_DIMS = 200"
   ]
  },
  {
   "cell_type": "code",
   "execution_count": 28,
   "metadata": {},
   "outputs": [
    {
     "name": "stdout",
     "output_type": "stream",
     "text": [
      "Build model...\n",
      "Model: \"sequential\"\n",
      "_________________________________________________________________\n",
      "Layer (type)                 Output Shape              Param #   \n",
      "=================================================================\n",
      "embedding (Embedding)        (None, 500, 40)           1200000   \n",
      "_________________________________________________________________\n",
      "dropout (Dropout)            (None, 500, 40)           0         \n",
      "_________________________________________________________________\n",
      "conv1d (Conv1D)              (None, 499, 120)          9720      \n",
      "_________________________________________________________________\n",
      "global_max_pooling1d (Global (None, 120)               0         \n",
      "_________________________________________________________________\n",
      "dense (Dense)                (None, 200)               24200     \n",
      "_________________________________________________________________\n",
      "dropout_1 (Dropout)          (None, 200)               0         \n",
      "_________________________________________________________________\n",
      "activation (Activation)      (None, 200)               0         \n",
      "_________________________________________________________________\n",
      "dense_1 (Dense)              (None, 1)                 201       \n",
      "_________________________________________________________________\n",
      "activation_1 (Activation)    (None, 1)                 0         \n",
      "=================================================================\n",
      "Total params: 1,234,121\n",
      "Trainable params: 1,234,121\n",
      "Non-trainable params: 0\n",
      "_________________________________________________________________\n"
     ]
    }
   ],
   "source": [
    "# CNN Model\n",
    "print('Build model...')\n",
    "model = Sequential()\n",
    "\n",
    "# we start off with an efficient embedding layer which maps\n",
    "# our vocab indices into EMBEDDING_DIM dimensions\n",
    "model.add(Embedding(VOCAB_SIZE, EMBEDDING_DIM, input_length=MAX_LEN))\n",
    "model.add(Dropout(0.2))\n",
    "\n",
    "# we add a Convolution1D, which will learn NUM_FILTERS filters\n",
    "model.add(Conv1D(NUM_FILTERS,\n",
    "                 KERNEL_SIZE,\n",
    "                 padding='valid',\n",
    "                 activation='relu',\n",
    "                 strides=1))\n",
    "\n",
    "# we use max pooling:\n",
    "model.add(GlobalMaxPooling1D())\n",
    "\n",
    "# We add a vanilla hidden layer:\n",
    "model.add(Dense(HIDDEN_DIMS))\n",
    "model.add(Dropout(0.1))\n",
    "model.add(Activation('relu'))\n",
    "\n",
    "# We project onto a single unit output layer, and squash it with a sigmoid:\n",
    "model.add(Dense(1))\n",
    "model.add(Activation('sigmoid'))\n",
    "model.compile(loss='binary_crossentropy', optimizer='adam', metrics=['accuracy'])\n",
    "model.summary()"
   ]
  },
  {
   "cell_type": "markdown",
   "metadata": {},
   "source": [
    "## Train & Evaluate\n",
    "\n",
    "Avec les paramètres et hyperparamètres ci-dessous, le training devrait durer envrion: \n",
    "\n",
    "- sur une machine CPU: 1 minutes pour 3 epochs.\n",
    "- sur une machine GPU: 1 minute pour 2 epochs.\n",
    "\n",
    "Vous devriez obtenir une accuracy de > 97%. \n",
    "\n",
    "*Note*: Le modèle commencera à sur-ajuster(overfitting) après 4 epochs."
   ]
  },
  {
   "cell_type": "code",
   "execution_count": 29,
   "metadata": {},
   "outputs": [
    {
     "name": "stdout",
     "output_type": "stream",
     "text": [
      "Train on 10788 samples, validate on 1199 samples\n",
      "Epoch 1/4\n",
      "10788/10788 - 20s - loss: 0.4843 - accuracy: 0.7763 - val_loss: 0.2184 - val_accuracy: 0.9141\n",
      "Epoch 2/4\n",
      "10788/10788 - 20s - loss: 0.1161 - accuracy: 0.9584 - val_loss: 0.1379 - val_accuracy: 0.9525\n",
      "Epoch 3/4\n",
      "10788/10788 - 19s - loss: 0.0429 - accuracy: 0.9877 - val_loss: 0.1296 - val_accuracy: 0.9508\n",
      "Epoch 4/4\n",
      "10788/10788 - 19s - loss: 0.0113 - accuracy: 0.9982 - val_loss: 0.1322 - val_accuracy: 0.9550\n",
      "2997/2997 [==============================] - ETA: 0s - loss: 0.0825 - accuracy: 0.96 - 1s 491us/sample - loss: 0.0812 - accuracy: 0.9690\n",
      "\n",
      "Accuracy:  96.89689874649048\n"
     ]
    }
   ],
   "source": [
    "# fit a model\n",
    "model.fit(x_train, y_train,\n",
    "          batch_size=BATCH_SIZE,\n",
    "          epochs=EPOCHS,\n",
    "          validation_split=0.1,\n",
    "          verbose=2)\n",
    "\n",
    "# Evaluate the model\n",
    "score, acc = model.evaluate(x_val, y_val, batch_size=BATCH_SIZE)\n",
    "\n",
    "print('\\nAccuracy: ', acc * 100)"
   ]
  },
  {
   "cell_type": "code",
   "execution_count": 30,
   "metadata": {},
   "outputs": [
    {
     "name": "stdout",
     "output_type": "stream",
     "text": [
      "              precision    recall  f1-score   support\n",
      "\n",
      "        fake       0.98      0.96      0.97      1523\n",
      "        true       0.96      0.98      0.97      1474\n",
      "\n",
      "    accuracy                           0.97      2997\n",
      "   macro avg       0.97      0.97      0.97      2997\n",
      "weighted avg       0.97      0.97      0.97      2997\n",
      "\n"
     ]
    },
    {
     "data": {
      "image/png": "[encoded data removed]",
      "text/plain": [
       "<Figure size 576x576 with 1 Axes>"
      ]
     },
     "metadata": {},
     "output_type": "display_data"
    }
   ],
   "source": [
    "# Plot confusion matrix\n",
    "from sklearn.metrics import confusion_matrix\n",
    "\n",
    "pred = model.predict_classes(x_val)\n",
    "\n",
    "cnf_matrix = confusion_matrix(pred, y_val)\n",
    "\n",
    "# Print Precision Recall F1-Score Report\n",
    "from sklearn.metrics import classification_report\n",
    "\n",
    "report = classification_report(pred, y_val, target_names=LABELS)\n",
    "print(report)\n",
    "\n",
    "fig, ax = plt.subplots(1,1, figsize=(8,8))\n",
    "\n",
    "cax = ax.matshow(cnf_matrix, cmap='cool')\n",
    "\n",
    "plt.title('La Matrice de confusion du classificateur\\n')\n",
    "ax.set_xticklabels([''] + LABELS)\n",
    "ax.set_yticklabels([''] + LABELS)\n",
    "\n",
    "for (i, j), z in np.ndenumerate(cnf_matrix):\n",
    "    ax.text(j, i, z, ha='center', va='center')\n",
    "    \n",
    "plt.xlabel('Predicted')\n",
    "plt.ylabel('True')\n",
    "plt.show()"
   ]
  },
  {
   "cell_type": "markdown",
   "metadata": {},
   "source": [
    "### Resultat\n",
    "\n",
    "Avec une architecture simple de réseaux de neurones et avec une dataset petite on a eu une précision de 97% ce qui explique l'utilisation de l'architecture CNN dans le domaine des NLP"
   ]
  },
  {
   "cell_type": "markdown",
   "metadata": {},
   "source": [
    "#### Hyperparamètres utilisés\n",
    "\n",
    "\n",
    "|Paramètre| Description| Valeur |\n",
    "|-------------- |----------- |----------- |\n",
    "|BATCH_SIZE|Nombre d'exemples utilisés dans chaque itération|120|\n",
    "|EPOCHS|Nombre de passages dans l'ensemble de données|4|\n",
    "|VOCAB_SIZE|Taille du dictionnaire de vocabulaire|30000|\n",
    "|MAX_LEN|Max length of des mots d'article|500|\n",
    "|EMBEDDING_DIM|Dimension du vecteur de mots|40|\n",
    "|HIDDEN_DIMS|dimension de couche cachée|200|\n",
    "|NUM_FILTERS|Nombre de filtres|120|\n",
    "|KERNEL_SIZE|Taille de filtres|2|\n",
    "|Padding|Rembourage|0|\n",
    "|Stride|Taille de pas|1|\n",
    "|Fonction d'activation||Sigmoid|\n"
   ]
  },
  {
   "cell_type": "markdown",
   "metadata": {},
   "source": [
    "## Quelques exemples\n",
    "\n",
    "On va utiliser la librarie `newspaper` pour récuéprer des articles"
   ]
  },
  {
   "cell_type": "code",
   "execution_count": 184,
   "metadata": {},
   "outputs": [],
   "source": [
    "from newspaper import Article"
   ]
  },
  {
   "cell_type": "code",
   "execution_count": 218,
   "metadata": {},
   "outputs": [],
   "source": [
    "def get_prediction(text):\n",
    "    # Preprocessing\n",
    "    text_np_array = text_tokenizer.texts_to_sequences([text])\n",
    "    text_np_array = sequence.pad_sequences(text_np_array, maxlen=MAX_LEN, padding=\"post\", value=0)\n",
    "    # Prediction\n",
    "    score = model.predict(text_np_array)[0][0]\n",
    "    #print('test ', model.predict(text_np_array))\n",
    "    prediction = LABELS[model.predict_classes(text_np_array)[0][0]]\n",
    "    print('\\nPREDICTION:', prediction, '\\nSCORE: ', score)"
   ]
  },
  {
   "cell_type": "raw",
   "metadata": {},
   "source": [
    "Echantilons de Fake news"
   ]
  },
  {
   "cell_type": "code",
   "execution_count": 250,
   "metadata": {},
   "outputs": [],
   "source": [
    "links = [\n",
    "   'https://nordpresse.be/alerte-tsunami-7-metres-neige-demain-belgique-france/',\n",
    "   'https://sud-ou-est.fr/la-dune-du-pilat-33-au-programme-du-tour-de-france-2015/',\n",
    "    'http://www.legorafi.fr/2020/03/31/bruno-le-maire-appelle-a-la-fondation-dune-nouvelle-internationale-ouvriere-et-a-mettre-a-bas-le-capitalisme-qui-exploite-les-camarades'\n",
    "]\n",
    "\n",
    "fake_articles = []\n",
    "\n",
    "#data collect\n",
    "for link in links:\n",
    "    article = Article(link, language='fr')\n",
    "    article.download()\n",
    "    article.parse()    \n",
    "    fake_articles.append(article)\n",
    "    "
   ]
  },
  {
   "cell_type": "code",
   "execution_count": 252,
   "metadata": {},
   "outputs": [
    {
     "data": {
      "text/html": [
       "<img src=\"https://nordpresse.be/wp-content/uploads/2014/12/romania_heavy_snow_14-620x4001.jpg\" width=\"300\"/>"
      ],
      "text/plain": [
       "<IPython.core.display.Image object>"
      ]
     },
     "metadata": {},
     "output_type": "display_data"
    },
    {
     "name": "stdout",
     "output_type": "stream",
     "text": [
      "TITRE : Alerte Tsunami ! 7 mètres de neige demain sur toute la Belgique et la France\n",
      "\n",
      "DESCRIPTION : Tous les ménages doivent se prémunir contre le grand froid qui s’annonce cette nuit et la quantité de neige astronomique prévue sur l’ouest de l’Europe. Il se pourrait que 7 mètres de neige tombent pendant la nuit et provoque un véritable chaos en Belgique et en France. Ceci à cause d’un tsunami neigeux unique provoqué par l’inversion de température due à la micro-éruption du volcan Brennisteinsfjöll.\n",
      "\n",
      "Depuis l’inversion de température de ces derniers jours, la prévision d’une chute de neige col...\n",
      "test  [[0.00050456]]\n",
      "\n",
      "PREDICTION: fake \n",
      "SCORE:  0.00050455617\n",
      "------------------------------------------------------------------------------------------------------------------------------------------------------\n"
     ]
    },
    {
     "data": {
      "text/html": [
       "<img src=\"http://sud-ou-est.fr/wp-content/uploads/2014/07/Tour_de_France_2.png\" width=\"300\"/>"
      ],
      "text/plain": [
       "<IPython.core.display.Image object>"
      ]
     },
     "metadata": {},
     "output_type": "display_data"
    },
    {
     "name": "stdout",
     "output_type": "stream",
     "text": [
      "TITRE : La dune du Pilat (33) au programme du Tour de France 2015 ?\n",
      "\n",
      "DESCRIPTION : Chagrinés de voir la plus belle épreuve cycliste du monde s’écarter des routes de Gironde, les membres du conseil municipal de la Teste-de-Buch ont contacté la direction du Tour du France, en vue de la Grande Boucle 2015, pour proposer une étape inédite : un contre-la-montre sur le bassin d’Arcachon ponctué d’une arrivée en moyenne montagne, au sommet de la Dune du Pilat.\n",
      "\n",
      "Jean-Didier CAZENAVE, président du club local “La Pédale Testerine”, à l’origine du projet, se montre volontiers bavard : « ...\n",
      "test  [[0.00047716]]\n",
      "\n",
      "PREDICTION: fake \n",
      "SCORE:  0.0004771645\n",
      "------------------------------------------------------------------------------------------------------------------------------------------------------\n"
     ]
    },
    {
     "data": {
      "text/html": [
       "<img src=\"http://www.legorafi.fr/wp-content/uploads/2017/03/Bruno_Le_Maire_8485947784-e1488544541697.jpg\" width=\"300\"/>"
      ],
      "text/plain": [
       "<IPython.core.display.Image object>"
      ]
     },
     "metadata": {},
     "output_type": "display_data"
    },
    {
     "name": "stdout",
     "output_type": "stream",
     "text": [
      "TITRE : Bruno Le Maire appelle à la fondation d’une nouvelle Internationale Ouvrière et à mettre à bas le capitalisme qui exploite les camarades\n",
      "\n",
      "DESCRIPTION : Après son appel pour demander un nouveau capitalisme, Bruno Le Maire n’est pas resté sans rien faire. Ce matin, il appelait ainsi à la création d’une nouvelle internationale des Ouvriers et des Travailleurs et à mettre à bas le système capitalistique qui exploite depuis trop longtemps les camarades du monde entier. Reportage.\n",
      "\n",
      "C’est le point levé du balcon d’un de ses bureaux de Bercy que Bruno Le Maire a tenté de haranguer les rares personnes dans la rue qui bravaient le confinement. « Ensemble...\n",
      "test  [[6.463103e-08]]\n",
      "\n",
      "PREDICTION: fake \n",
      "SCORE:  6.463103e-08\n",
      "------------------------------------------------------------------------------------------------------------------------------------------------------\n"
     ]
    }
   ],
   "source": [
    "from IPython.display import Image, display\n",
    "\n",
    "#prediction\n",
    "for article in fake_articles:\n",
    "    display(Image(url=article.top_image,width=300))\n",
    "    print(\"TITRE : %s\" %article.title)\n",
    "    print('\\nDESCRIPTION : %s...' %article.text[:500])\n",
    "    get_prediction(article.text)\n",
    "    print('-' * 150)"
   ]
  },
  {
   "cell_type": "raw",
   "metadata": {},
   "source": [
    "Echantilons de vrais news"
   ]
  },
  {
   "cell_type": "code",
   "execution_count": 253,
   "metadata": {},
   "outputs": [],
   "source": [
    "links = [\n",
    "    'http://www.europe1.fr/societe/625-kg-de-resine-de-cannabis-saisis-pres-de-la-frontiere-franco-espagnole-2861041',\n",
    "    'http://www.lepoint.fr/monde/syrie-msf-reclame-la-fin-du-bain-de-sang-a-alep-assiegee-01-10-2016-2072741_24.php',\n",
    "    'http://www.lemonde.fr/europe/article/2016/10/04/en-turquie-plus-de-12-000-policiers-mis-a-pied-dans-l-enquete-sur-le-putsch-rate_5007797_3214.html'  \n",
    "]\n",
    "\n",
    "true_articles = []\n",
    "\n",
    "#data collect\n",
    "for link in links:\n",
    "    article = Article(link, language='fr')\n",
    "    article.download()\n",
    "    article.parse()    \n",
    "    true_articles.append(article)\n",
    "    "
   ]
  },
  {
   "cell_type": "code",
   "execution_count": 254,
   "metadata": {},
   "outputs": [
    {
     "data": {
      "text/html": [
       "<img src=\"https://cdn-europe1.lanmedia.fr/var/europe1/storage/images/europe1/societe/625-kg-de-resine-de-cannabis-saisis-pres-de-la-frontiere-franco-espagnole-2861041/29142286-1-fre-FR/625-kg-de-resine-de-cannabis-saisis-pres-de-la-frontiere-franco-espagnole.gif\" width=\"300\"/>"
      ],
      "text/plain": [
       "<IPython.core.display.Image object>"
      ]
     },
     "metadata": {},
     "output_type": "display_data"
    },
    {
     "name": "stdout",
     "output_type": "stream",
     "text": [
      "TITRE : 625 kg de résine de cannabis saisis près de la frontière franco-espagnole\n",
      "\n",
      "DESCRIPTION : Les douaniers du Perthus, dans les Pyrénées-Orientales, ont saisi en début de semaine 625 kg de résine de cannabis, d'une valeur estimée à 3,8 millions d'euros, dans un camion frigorifique dont le chauffeur a été interpellé, ont indiqué les douanes vendredi.\n",
      "\n",
      "Transport de \"boîtes en plastique\". La découverte a eu lieu lundi, lors d'un contrôle sur l'autoroute A9 au niveau du péage du Boulou, situé à une dizaine de kilomètres de la frontière espagnole, ont précisé les douanes dans un communiqué. ...\n",
      "test  [[0.3783687]]\n",
      "\n",
      "PREDICTION: fake \n",
      "SCORE:  0.3783687\n",
      "------------------------------------------------------------------------------------------------------------------------------------------------------\n"
     ]
    },
    {
     "data": {
      "text/html": [
       "<img src=\"https://www.lepoint.fr/images/2016/10/01/5554311lpw-5554361-article-syrie-jpg_3811235_540x282.jpg\" width=\"300\"/>"
      ],
      "text/plain": [
       "<IPython.core.display.Image object>"
      ]
     },
     "metadata": {},
     "output_type": "display_data"
    },
    {
     "name": "stdout",
     "output_type": "stream",
     "text": [
      "TITRE : Syrie : MSF réclame la fin du \"bain de sang\" à Alep assiégée\n",
      "\n",
      "DESCRIPTION : Le régime de Damas a progressé face aux rebelles dans Alep, bénéficiant notamment des frappes de son allié russe qui ont tué plus de 3 800 civils en un an de campagne militaire en Syrie. Médecins sans frontières (MSF) a appelé vendredi Damas et Moscou à mettre un terme « au bain de sang » à Alep, principal front du conflit qui ravage le pays depuis cinq ans. L'avancée de l'armée syrienne survient au moment où les États-Unis et la Russie, parrains respectifs de l'opposition et du régime, semblent...\n",
      "test  [[0.9909746]]\n",
      "\n",
      "PREDICTION: true \n",
      "SCORE:  0.9909746\n",
      "------------------------------------------------------------------------------------------------------------------------------------------------------\n"
     ]
    },
    {
     "data": {
      "text/html": [
       "<img src=\"https://img.lemde.fr/2016/01/13/200/0/2961/1476/1440/720/60/0/b38673d_5056273-01-06.jpg\" width=\"300\"/>"
      ],
      "text/plain": [
       "<IPython.core.display.Image object>"
      ]
     },
     "metadata": {},
     "output_type": "display_data"
    },
    {
     "name": "stdout",
     "output_type": "stream",
     "text": [
      "TITRE : En Turquie, plus de 12 000 policiers mis à pied dans l’enquête sur le putsch raté\n",
      "\n",
      "DESCRIPTION : Policiers turcs à Istanbul, en janvier. BULENT KILIC / AFP\n",
      "\n",
      "Plus de 12 000 policiers ont été mis à pied en Turquie pour des liens présumés avec l’ex-prédicateur Fethullah Gülen, accusé d’avoir ourdi le putsch avorté de la mi-juillet. Sur 12 801 policiers mis à pied, 2 523 sont des gradés, selon la police. La force de police en Turquie compte 270 000 hommes et femmes.\n",
      "\n",
      "Depuis la tentative de coup d’Etat, imputée à M. Gülen, en exil volontaire aux Etats-Unis depuis 1999, les autorités turques ont ...\n",
      "test  [[0.99950814]]\n",
      "\n",
      "PREDICTION: true \n",
      "SCORE:  0.99950814\n",
      "------------------------------------------------------------------------------------------------------------------------------------------------------\n"
     ]
    }
   ],
   "source": [
    "from IPython.display import Image, display\n",
    "\n",
    "#prediction\n",
    "for article in true_articles:\n",
    "    display(Image(url=article.top_image,width=300))\n",
    "    print(\"TITRE : %s\" %article.title)\n",
    "    print('\\nDESCRIPTION : %s...' %article.text[:500])\n",
    "    get_prediction(article.text)\n",
    "    print('-' * 150)"
   ]
  },
  {
   "cell_type": "markdown",
   "metadata": {},
   "source": [
    "## Sauvegarder le modèle"
   ]
  },
  {
   "cell_type": "code",
   "execution_count": 32,
   "metadata": {},
   "outputs": [
    {
     "name": "stdout",
     "output_type": "stream",
     "text": [
      "INFO:tensorflow:Assets written to: models\\assets\n"
     ]
    }
   ],
   "source": [
    "import pickle\n",
    "\n",
    "# Saving Tokenizer\n",
    "with open('models/tokenizer.pickle', 'wb') as handle:\n",
    "    pickle.dump(text_tokenizer, handle, protocol=pickle.HIGHEST_PROTOCOL)\n",
    " \n",
    "# Saving Model\n",
    "model.save('models')"
   ]
  },
  {
   "cell_type": "markdown",
   "metadata": {},
   "source": [
    "### Charger le modèle"
   ]
  },
  {
   "cell_type": "code",
   "execution_count": 35,
   "metadata": {},
   "outputs": [],
   "source": [
    "from tensorflow import keras\n",
    "\n",
    "#Load the tokenizer\n",
    "with open('models/tokenizer.pickle', 'rb') as text_tokenizer:  \n",
    "    text_tokenizer = pickle.load(text_tokenizer)\n",
    "    \n",
    "model = keras.models.load_model('models')    "
   ]
  }
 ],
 "metadata": {
  "kernelspec": {
   "display_name": "Python 3",
   "language": "python",
   "name": "python3"
  },
  "language_info": {
   "codemirror_mode": {
    "name": "ipython",
    "version": 3
   },
   "file_extension": ".py",
   "mimetype": "text/x-python",
   "name": "python",
   "nbconvert_exporter": "python",
   "pygments_lexer": "ipython3",
   "version": "3.7.4"
  }
 },
 "nbformat": 4,
 "nbformat_minor": 4
}
